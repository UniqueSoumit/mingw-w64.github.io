{
  "nbformat": 4,
  "nbformat_minor": 0,
  "metadata": {
    "colab": {
      "name": "Untitled0.ipynb",
      "provenance": [],
      "collapsed_sections": [],
      "authorship_tag": "ABX9TyMn3gPFNqEyPqTGJ4cJ5dvD",
      "include_colab_link": true
    },
    "kernelspec": {
      "name": "python3",
      "display_name": "Python 3"
    },
    "language_info": {
      "name": "python"
    }
  },
  "cells": [
    {
      "cell_type": "markdown",
      "metadata": {
        "id": "view-in-github",
        "colab_type": "text"
      },
      "source": [
        "<a href=\"https://colab.research.google.com/github/UniqueSoumit/mingw-w64.github.io/blob/main/Untitled0.ipynb\" target=\"_parent\"><img src=\"https://colab.research.google.com/assets/colab-badge.svg\" alt=\"Open In Colab\"/></a>"
      ]
    },
    {
      "cell_type": "code",
      "execution_count": 1,
      "metadata": {
        "id": "49qYANG0rATC",
        "colab": {
          "base_uri": "https://localhost:8080/"
        },
        "outputId": "1ab6bdcc-861b-4a1d-c63d-4552bf5f16d0"
      },
      "outputs": [
        {
          "output_type": "stream",
          "name": "stdout",
          "text": [
            "25\n"
          ]
        }
      ],
      "source": [
        "print(5**2)"
      ]
    },
    {
      "cell_type": "code",
      "source": [
        "name = \"Soumit Barate\"\n",
        "uppercase_name = name.upper()\n",
        "lowercase_name = name.lower()\n",
        "titlecase_name = name.title()\n",
        "print(uppercase_name)\n",
        "print(lowercase_name)\n",
        "print(titlecase_name)"
      ],
      "metadata": {
        "colab": {
          "base_uri": "https://localhost:8080/"
        },
        "id": "Y3YHlz8S2FLg",
        "outputId": "6977e6ce-d44a-41e8-8ab3-da03f71e8c47"
      },
      "execution_count": 2,
      "outputs": [
        {
          "output_type": "stream",
          "name": "stdout",
          "text": [
            "SOUMIT BARATE\n",
            "soumit barate\n",
            "Soumit Barate\n"
          ]
        }
      ]
    },
    {
      "cell_type": "code",
      "source": [],
      "metadata": {
        "id": "LL1FxF_C2KDJ"
      },
      "execution_count": null,
      "outputs": []
    }
  ]
}